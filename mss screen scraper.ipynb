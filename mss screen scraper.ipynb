{
 "cells": [
  {
   "cell_type": "code",
   "execution_count": null,
   "id": "034e1e19",
   "metadata": {},
   "outputs": [],
   "source": [
    "import cv2\n",
    "import numpy as np\n",
    "import pytesseract\n",
    "from mss import mss\n",
    "from PIL import Image\n",
    "import re\n",
    "from pynput import mouse\n",
    "import time"
   ]
  },
  {
   "cell_type": "code",
   "execution_count": null,
   "id": "3a3884a0",
   "metadata": {},
   "outputs": [],
   "source": [
    "# tesseract path \n",
    "pytesseract.pytesseract.tesseract_cmd = r'C:\\Program Files\\Tesseract-OCR\\tesseract.exe'"
   ]
  },
  {
   "cell_type": "code",
   "execution_count": null,
   "id": "42a4464e",
   "metadata": {},
   "outputs": [],
   "source": [
    "# Function to get box location to pass to MSS\n",
    "def on_click(x, y, button, pressed):\n",
    "    global clicks\n",
    "    if pressed:\n",
    "        clicks.append((x, y))\n",
    "        if len(clicks) == 2:\n",
    "            return False\n",
    "\n",
    "def get_monitor_section():\n",
    "    global clicks\n",
    "    clicks = []\n",
    "\n",
    "    with mouse.Listener(on_click=on_click) as listener:\n",
    "        listener.join()\n",
    "\n",
    "    if len(clicks) != 2:\n",
    "        print(\"Error: Did not register exactly two clicks.\")\n",
    "        return None\n",
    "\n",
    "    top_left = clicks[0]\n",
    "    bottom_right = clicks[1]\n",
    "\n",
    "    monitor = {\n",
    "        \"top\": top_left[1],\n",
    "        \"left\": top_left[0],\n",
    "        \"width\": abs(top_left[0] - bottom_right[0]),\n",
    "        \"height\": abs(top_left[1] - bottom_right[1])\n",
    "    }\n",
    "\n",
    "    return monitor"
   ]
  },
  {
   "cell_type": "code",
   "execution_count": null,
   "id": "848b76bb",
   "metadata": {},
   "outputs": [],
   "source": [
    "monitor_section = get_monitor_section()\n",
    "if monitor_section:\n",
    "    print(monitor_section)"
   ]
  },
  {
   "cell_type": "code",
   "execution_count": null,
   "id": "cdf2622a",
   "metadata": {},
   "outputs": [],
   "source": [
    "# use coords from above\n",
    "monitor  = {'top': 866, 'left': -492, 'width': 326, 'height': 33}\n",
    "\n",
    "# start screen\n",
    "sct = mss()\n",
    "\n",
    "while True:\n",
    "    # screenshot\n",
    "    sct_img = sct.grab(monitor)\n",
    "    \n",
    "    #to array \n",
    "    img = np.array(sct_img)\n",
    "    \n",
    "\n",
    "    gray = cv2.cvtColor(img, cv2.COLOR_BGR2GRAY)\n",
    "    \n",
    "    gray = cv2.threshold(gray, 128, 255, cv2.THRESH_BINARY | cv2.THRESH_OTSU)[1]\n",
    "\n",
    "    # tesseract custom - search fro numbers and / \n",
    "    custom_config = r'--oem 3 --psm 6 -c tessedit_char_whitelist=0123456789/.'\n",
    "    text = pytesseract.image_to_string(gray, config=custom_config)\n",
    "    print(\"Extracted Text:\", text)\n",
    "\n",
    "    # regex mathch pattern\n",
    "    odds_pattern = re.compile(r'\\d+/\\d+')\n",
    "    odds_matches = odds_pattern.findall(text)\n",
    "\n",
    "    #check 2 odds?\n",
    "    if len(odds_matches) >= 2:\n",
    "        odds_1 = odds_matches[0]\n",
    "        odds_2 = odds_matches[1]\n",
    "        print(f\"Odds 1: {odds_1}, Odds 2: {odds_2}\")\n",
    "    else:\n",
    "        print(\"Could not find two odds values\")\n",
    "\n",
    "    # print screen, to check location \n",
    "    cv2.imshow('Screen Capture', gray)\n",
    "    \n",
    "    if cv2.waitKey(25) & 0xFF == ord('q'):\n",
    "        cv2.destroyAllWindows()\n",
    "        break"
   ]
  }
 ],
 "metadata": {
  "kernelspec": {
   "display_name": "Python 3 (ipykernel)",
   "language": "python",
   "name": "python3"
  },
  "language_info": {
   "codemirror_mode": {
    "name": "ipython",
    "version": 3
   },
   "file_extension": ".py",
   "mimetype": "text/x-python",
   "name": "python",
   "nbconvert_exporter": "python",
   "pygments_lexer": "ipython3",
   "version": "3.9.7"
  }
 },
 "nbformat": 4,
 "nbformat_minor": 5
}
